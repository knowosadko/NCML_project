{
 "cells": [
  {
   "cell_type": "code",
   "execution_count": 2,
   "id": "12eac9e0",
   "metadata": {},
   "outputs": [],
   "source": [
    "import ale_py\n",
    "# if using gymnasium\n",
    "import shimmy\n",
    "import gymnasium as gym\n",
    "\n",
    "import torch\n",
    "from torch import nn\n",
    "import pytorch_lightning as pl"
   ]
  },
  {
   "cell_type": "code",
   "execution_count": null,
   "id": "343f5217",
   "metadata": {},
   "outputs": [],
   "source": []
  },
  {
   "cell_type": "markdown",
   "id": "5bee889c",
   "metadata": {},
   "source": [
    "# Algorithms "
   ]
  },
  {
   "cell_type": "markdown",
   "id": "6b01f9c6",
   "metadata": {},
   "source": [
    "### DQN"
   ]
  },
  {
   "cell_type": "code",
   "execution_count": 3,
   "id": "1bdb7991",
   "metadata": {},
   "outputs": [],
   "source": [
    "class DQN_agent:\n",
    "    \"\"\" The agent maps X-states to Y-actions\n",
    "    e.g. The neural network output is [.1, .7, .1, .3, .4]\n",
    "    Where each element is a predicted value of (state, action) pair.\n",
    "    \"\"\"\n",
    "    \n",
    "    def train(self,experiences,model,target,done):\n",
    "        pass\n",
    "    \n",
    "    def predict(self, input):\n",
    "        pass"
   ]
  },
  {
   "cell_type": "code",
   "execution_count": null,
   "id": "c5dce59e",
   "metadata": {},
   "outputs": [],
   "source": [
    "env = gym.make(\"ALE/Pacman-v5\",render_mode=\"human\")\n",
    "state, info = env.reset(seed=123, options={})\n",
    "\n",
    "done = False\n",
    "while not done:\n",
    "    action = env.action_space.sample()  # agent policy that uses the observation and info\n",
    "    state, reward, terminated, truncated, info = env.step(action)\n",
    "\n",
    "    done = terminated or truncated\n",
    "\n",
    "env.close()"
   ]
  },
  {
   "cell_type": "code",
   "execution_count": null,
   "id": "6e123535",
   "metadata": {},
   "outputs": [],
   "source": []
  }
 ],
 "metadata": {
  "kernelspec": {
   "display_name": "Python 3 (ipykernel)",
   "language": "python",
   "name": "python3"
  },
  "language_info": {
   "codemirror_mode": {
    "name": "ipython",
    "version": 3
   },
   "file_extension": ".py",
   "mimetype": "text/x-python",
   "name": "python",
   "nbconvert_exporter": "python",
   "pygments_lexer": "ipython3",
   "version": "3.9.7"
  }
 },
 "nbformat": 4,
 "nbformat_minor": 5
}
